{
  "nbformat": 4,
  "nbformat_minor": 0,
  "metadata": {
    "colab": {
      "provenance": [],
      "authorship_tag": "ABX9TyM7EpP3JDJ6O8rvi6wMjWsN",
      "include_colab_link": true
    },
    "kernelspec": {
      "name": "python3",
      "display_name": "Python 3"
    },
    "language_info": {
      "name": "python"
    }
  },
  "cells": [
    {
      "cell_type": "markdown",
      "metadata": {
        "id": "view-in-github",
        "colab_type": "text"
      },
      "source": [
        "<a href=\"https://colab.research.google.com/github/kirill123kk/machine-learning/blob/main/Cov%2019.ipynb\" target=\"_parent\"><img src=\"https://colab.research.google.com/assets/colab-badge.svg\" alt=\"Open In Colab\"/></a>"
      ]
    },
    {
      "cell_type": "code",
      "source": [
        "import pandas as pd\n",
        "import numpy as np\n",
        "import seaborn as sns\n",
        "import scipy.stats\n",
        "from scipy.stats import norm\n",
        "import matplotlib.pyplot as plt\n",
        "import matplotlib.dates as mdates\n",
        "import statsmodels.api as sm\n",
        "from statsmodels.stats.outliers_influence import variance_inflation_factor\n",
        "from sklearn.preprocessing import StandardScaler\n",
        "from sklearn.linear_model import LinearRegression\n",
        "from sklearn.ensemble import RandomForestClassifier\n",
        "from sklearn.model_selection import train_test_split\n",
        "from sklearn.feature_selection import SelectFromModel\n",
        "from array import array\n",
        "from patsy import dmatrices\n",
        "%matplotlib inline"
      ],
      "metadata": {
        "id": "k--gEbryhCSS"
      },
      "execution_count": null,
      "outputs": []
    },
    {
      "cell_type": "code",
      "source": [
        "\n",
        "df_case = pd.read_csv(\"https://raw.githubusercontent.com/kirill123kk/machine-learning/main/cases_state.csv\")\n",
        "df_death = pd.read_csv(\"https://raw.githubusercontent.com/kirill123kk/machine-learning/main/deaths_state.csv\")\n",
        "df_hospital = pd.read_csv(\"https://raw.githubusercontent.com/kirill123kk/machine-learning/main/hospital.csv\")\n",
        "df_icu = pd.read_csv(\"https://raw.githubusercontent.com/kirill123kk/machine-learning/main/icu.csv\")\n",
        "df_vax_state = pd.read_csv(\"https://raw.githubusercontent.com/kirill123kk/machine-learning/main/vax_state.csv\")\n",
        "df_vax_country = pd.read_csv(\"https://raw.githubusercontent.com/kirill123kk/machine-learning/main/vax_malaysia.csv\")\n",
        "df_popu = pd.read_csv(\"https://raw.githubusercontent.com/kirill123kk/machine-learning/main/population.csv\")"
      ],
      "metadata": {
        "id": "PZVYNIxyhHoF"
      },
      "execution_count": null,
      "outputs": []
    },
    {
      "cell_type": "code",
      "source": [
        "df_case = df_case[['date', 'state', 'cases_new', 'cases_recovered', 'cases_active', 'cases_unvax', 'cases_pvax', 'cases_fvax', 'cases_boost', 'cases_child', 'cases_adolescent', 'cases_adult', 'cases_elderly']]\n",
        "df_death = df_death[['date', 'state', 'deaths_new', 'deaths_unvax', 'deaths_pvax', 'deaths_fvax', 'deaths_boost']]\n",
        "df_hospital = df_hospital[['date', 'state', 'beds_covid', 'hosp_covid']]\n",
        "df_icu = df_icu[['date', 'state', 'beds_icu_covid', 'vent_covid', 'icu_covid']]\n",
        "df_vax_state = df_vax_state[['date', 'state', 'daily_partial', 'daily_full', 'daily_booster', 'daily_booster2', 'cumul_partial', 'cumul_full', 'cumul_booster', 'cumul_booster2']]\n",
        "df_vax_country = df_vax_country[['date', 'daily_partial', 'daily_full', 'daily_booster', 'daily_booster2', 'cumul_partial', 'cumul_full', 'cumul_booster', 'cumul_booster2']]\n",
        "df_popu = df_popu[['state', 'pop']]"
      ],
      "metadata": {
        "id": "pea6Gq8HimNk"
      },
      "execution_count": null,
      "outputs": []
    },
    {
      "cell_type": "code",
      "source": [
        "dataframes = {\n",
        "    'Cases': df_case,\n",
        "    'Deaths': df_death,\n",
        "    'Hospital': df_hospital,\n",
        "    'ICU': df_icu,\n",
        "}\n",
        "\n",
        "for name, df in dataframes.items():\n",
        "    df['date'] = pd.to_datetime(df['date'], format='%Y-%m-%d')\n",
        "    df['date'] = df['date'].dt.strftime('%Y-%m')\n",
        "    dataframes[name] = df"
      ],
      "metadata": {
        "id": "4IRFjDOXiq-b"
      },
      "execution_count": null,
      "outputs": []
    },
    {
      "cell_type": "code",
      "source": [
        "df_case = df_case.groupby(['date', 'state']).sum()\n",
        "df_death = df_death.groupby(['date', 'state']).sum()\n",
        "df_hospital = df_hospital.groupby(['date', 'state']).sum()\n",
        "df_icu = df_icu.groupby(['date', 'state']).sum()"
      ],
      "metadata": {
        "id": "bCDidMIgivhN"
      },
      "execution_count": null,
      "outputs": []
    },
    {
      "cell_type": "code",
      "source": [
        "df1 = pd.merge(df_case, df_death, on = ['date', 'state'])\n",
        "df2 = pd.merge(df_hospital, df_icu, on = ['date', 'state'])\n",
        "df3 = df_vax_state\n",
        "df4 = df_vax_country"
      ],
      "metadata": {
        "id": "OReJ9ziJizY8"
      },
      "execution_count": null,
      "outputs": []
    },
    {
      "cell_type": "code",
      "source": [
        "df1 = df1.reset_index()\n",
        "df2 = df2.reset_index()"
      ],
      "metadata": {
        "id": "thYhSPtzi1wJ"
      },
      "execution_count": null,
      "outputs": []
    },
    {
      "cell_type": "code",
      "source": [
        "df1.shape\n",
        "df1.info()"
      ],
      "metadata": {
        "id": "R4edMpRjjXfO",
        "colab": {
          "base_uri": "https://localhost:8080/"
        },
        "outputId": "515c3665-adfa-4f99-9377-7601f4c40764"
      },
      "execution_count": null,
      "outputs": [
        {
          "output_type": "stream",
          "name": "stdout",
          "text": [
            "<class 'pandas.core.frame.DataFrame'>\n",
            "RangeIndex: 656 entries, 0 to 655\n",
            "Data columns (total 18 columns):\n",
            " #   Column            Non-Null Count  Dtype \n",
            "---  ------            --------------  ----- \n",
            " 0   date              656 non-null    object\n",
            " 1   state             656 non-null    object\n",
            " 2   cases_new         656 non-null    int64 \n",
            " 3   cases_recovered   656 non-null    int64 \n",
            " 4   cases_active      656 non-null    int64 \n",
            " 5   cases_unvax       656 non-null    int64 \n",
            " 6   cases_pvax        656 non-null    int64 \n",
            " 7   cases_fvax        656 non-null    int64 \n",
            " 8   cases_boost       656 non-null    int64 \n",
            " 9   cases_child       656 non-null    int64 \n",
            " 10  cases_adolescent  656 non-null    int64 \n",
            " 11  cases_adult       656 non-null    int64 \n",
            " 12  cases_elderly     656 non-null    int64 \n",
            " 13  deaths_new        656 non-null    int64 \n",
            " 14  deaths_unvax      656 non-null    int64 \n",
            " 15  deaths_pvax       656 non-null    int64 \n",
            " 16  deaths_fvax       656 non-null    int64 \n",
            " 17  deaths_boost      656 non-null    int64 \n",
            "dtypes: int64(16), object(2)\n",
            "memory usage: 92.4+ KB\n"
          ]
        }
      ]
    },
    {
      "cell_type": "code",
      "source": [
        "df2.shape\n",
        "df2.info()"
      ],
      "metadata": {
        "id": "oRDITPHjjZp2",
        "colab": {
          "base_uri": "https://localhost:8080/"
        },
        "outputId": "f287e320-94f2-47f6-8ef1-5ea75f335f7f"
      },
      "execution_count": null,
      "outputs": [
        {
          "output_type": "stream",
          "name": "stdout",
          "text": [
            "<class 'pandas.core.frame.DataFrame'>\n",
            "RangeIndex: 642 entries, 0 to 641\n",
            "Data columns (total 7 columns):\n",
            " #   Column          Non-Null Count  Dtype \n",
            "---  ------          --------------  ----- \n",
            " 0   date            642 non-null    object\n",
            " 1   state           642 non-null    object\n",
            " 2   beds_covid      642 non-null    int64 \n",
            " 3   hosp_covid      642 non-null    int64 \n",
            " 4   beds_icu_covid  642 non-null    int64 \n",
            " 5   vent_covid      642 non-null    int64 \n",
            " 6   icu_covid       642 non-null    int64 \n",
            "dtypes: int64(5), object(2)\n",
            "memory usage: 35.2+ KB\n"
          ]
        }
      ]
    },
    {
      "cell_type": "code",
      "source": [
        "df3.shape\n",
        "df3.info()"
      ],
      "metadata": {
        "id": "YAgeHsZbjhxH",
        "colab": {
          "base_uri": "https://localhost:8080/"
        },
        "outputId": "2323c4dc-f3cf-4dfe-e57f-96cd876c594d"
      },
      "execution_count": null,
      "outputs": [
        {
          "output_type": "stream",
          "name": "stdout",
          "text": [
            "<class 'pandas.core.frame.DataFrame'>\n",
            "RangeIndex: 14256 entries, 0 to 14255\n",
            "Data columns (total 10 columns):\n",
            " #   Column          Non-Null Count  Dtype \n",
            "---  ------          --------------  ----- \n",
            " 0   date            14256 non-null  object\n",
            " 1   state           14256 non-null  object\n",
            " 2   daily_partial   14256 non-null  int64 \n",
            " 3   daily_full      14256 non-null  int64 \n",
            " 4   daily_booster   14256 non-null  int64 \n",
            " 5   daily_booster2  14256 non-null  int64 \n",
            " 6   cumul_partial   14256 non-null  int64 \n",
            " 7   cumul_full      14256 non-null  int64 \n",
            " 8   cumul_booster   14256 non-null  int64 \n",
            " 9   cumul_booster2  14256 non-null  int64 \n",
            "dtypes: int64(8), object(2)\n",
            "memory usage: 1.1+ MB\n"
          ]
        }
      ]
    },
    {
      "cell_type": "code",
      "source": [
        "df4.shape\n",
        "df4.info()"
      ],
      "metadata": {
        "id": "QZ36TlU0jkVK",
        "colab": {
          "base_uri": "https://localhost:8080/"
        },
        "outputId": "af9d94ea-9328-4663-d395-11c9c4402080"
      },
      "execution_count": null,
      "outputs": [
        {
          "output_type": "stream",
          "name": "stdout",
          "text": [
            "<class 'pandas.core.frame.DataFrame'>\n",
            "RangeIndex: 891 entries, 0 to 890\n",
            "Data columns (total 9 columns):\n",
            " #   Column          Non-Null Count  Dtype \n",
            "---  ------          --------------  ----- \n",
            " 0   date            891 non-null    object\n",
            " 1   daily_partial   891 non-null    int64 \n",
            " 2   daily_full      891 non-null    int64 \n",
            " 3   daily_booster   891 non-null    int64 \n",
            " 4   daily_booster2  891 non-null    int64 \n",
            " 5   cumul_partial   891 non-null    int64 \n",
            " 6   cumul_full      891 non-null    int64 \n",
            " 7   cumul_booster   891 non-null    int64 \n",
            " 8   cumul_booster2  891 non-null    int64 \n",
            "dtypes: int64(8), object(1)\n",
            "memory usage: 62.8+ KB\n"
          ]
        }
      ]
    },
    {
      "cell_type": "code",
      "source": [
        "df1.isnull().sum()\n",
        "df2.isnull().sum()\n",
        "df3.isnull().sum()\n",
        "df4.isnull().sum()"
      ],
      "metadata": {
        "id": "tppa4ocGj8WG",
        "colab": {
          "base_uri": "https://localhost:8080/"
        },
        "outputId": "6074659d-95ba-4770-f1eb-2f21fdfe6050"
      },
      "execution_count": null,
      "outputs": [
        {
          "output_type": "execute_result",
          "data": {
            "text/plain": [
              "date              0\n",
              "daily_partial     0\n",
              "daily_full        0\n",
              "daily_booster     0\n",
              "daily_booster2    0\n",
              "cumul_partial     0\n",
              "cumul_full        0\n",
              "cumul_booster     0\n",
              "cumul_booster2    0\n",
              "dtype: int64"
            ]
          },
          "metadata": {},
          "execution_count": 81
        }
      ]
    },
    {
      "cell_type": "code",
      "source": [
        "df1.drop_duplicates(inplace=True)\n",
        "df2.drop_duplicates(inplace=True)\n",
        "df3.drop_duplicates(inplace=True)\n",
        "df4.drop_duplicates(inplace=True)"
      ],
      "metadata": {
        "id": "MnM-YSOfkDlH"
      },
      "execution_count": null,
      "outputs": []
    },
    {
      "cell_type": "code",
      "source": [
        "df1\n"
      ],
      "metadata": {
        "colab": {
          "base_uri": "https://localhost:8080/",
          "height": 544
        },
        "id": "-HHAZAP5pr6n",
        "outputId": "59e0a19b-6d06-4caa-b12c-ebbf6a28f78c"
      },
      "execution_count": null,
      "outputs": [
        {
          "output_type": "execute_result",
          "data": {
            "text/plain": [
              "                           cases_new  cases_recovered  cases_active  \\\n",
              "date    state                                                         \n",
              "2020-03 Johor                    343               36          2794   \n",
              "        Kedah                     74               19           806   \n",
              "        Kelantan                 131                1          1197   \n",
              "        Melaka                    52                0           481   \n",
              "        Negeri Sembilan          179               48          1573   \n",
              "...                              ...              ...           ...   \n",
              "2023-07 Selangor                1440             1909         51150   \n",
              "        Terengganu               114              118         10523   \n",
              "        W.P. Kuala Lumpur       1041             1412         57249   \n",
              "        W.P. Labuan               54               70          1417   \n",
              "        W.P. Putrajaya            84              136         11702   \n",
              "\n",
              "                           cases_unvax  cases_pvax  cases_fvax  cases_boost  \\\n",
              "date    state                                                                 \n",
              "2020-03 Johor                      343           0           0            0   \n",
              "        Kedah                       74           0           0            0   \n",
              "        Kelantan                   131           0           0            0   \n",
              "        Melaka                      52           0           0            0   \n",
              "        Negeri Sembilan            179           0           0            0   \n",
              "...                                ...         ...         ...          ...   \n",
              "2023-07 Selangor                   185           8         251          996   \n",
              "        Terengganu                  33           0          34           47   \n",
              "        W.P. Kuala Lumpur           83           3         125          830   \n",
              "        W.P. Labuan                 11           0          10           33   \n",
              "        W.P. Putrajaya               3           1          20           60   \n",
              "\n",
              "                           cases_child  cases_adolescent  cases_adult  \\\n",
              "date    state                                                           \n",
              "2020-03 Johor                       15                15          244   \n",
              "        Kedah                        1                 5           46   \n",
              "        Kelantan                    10                 4           84   \n",
              "        Melaka                       0                 2           40   \n",
              "        Negeri Sembilan              4                 1          125   \n",
              "...                                ...               ...          ...   \n",
              "2023-07 Selangor                   108                67         1089   \n",
              "        Terengganu                  16                 5           70   \n",
              "        W.P. Kuala Lumpur           50                43          851   \n",
              "        W.P. Labuan                  3                 5           36   \n",
              "        W.P. Putrajaya               5                 6           70   \n",
              "\n",
              "                           cases_elderly  deaths_new  deaths_unvax  \\\n",
              "date    state                                                        \n",
              "2020-03 Johor                         69          12            12   \n",
              "        Kedah                         22           1             1   \n",
              "        Kelantan                      33           2             2   \n",
              "        Melaka                        10           2             2   \n",
              "        Negeri Sembilan               49           2             2   \n",
              "...                                  ...         ...           ...   \n",
              "2023-07 Selangor                     176           4             0   \n",
              "        Terengganu                    23           0             0   \n",
              "        W.P. Kuala Lumpur             97           0             0   \n",
              "        W.P. Labuan                   10           0             0   \n",
              "        W.P. Putrajaya                 3           0             0   \n",
              "\n",
              "                           deaths_pvax  deaths_fvax  deaths_boost  \n",
              "date    state                                                      \n",
              "2020-03 Johor                        0            0             0  \n",
              "        Kedah                        0            0             0  \n",
              "        Kelantan                     0            0             0  \n",
              "        Melaka                       0            0             0  \n",
              "        Negeri Sembilan              0            0             0  \n",
              "...                                ...          ...           ...  \n",
              "2023-07 Selangor                     0            0             1  \n",
              "        Terengganu                   0            0             0  \n",
              "        W.P. Kuala Lumpur            0            0             0  \n",
              "        W.P. Labuan                  0            0             0  \n",
              "        W.P. Putrajaya               0            0             0  \n",
              "\n",
              "[656 rows x 16 columns]"
            ],
            "text/html": [
              "\n",
              "  <div id=\"df-39b2caf2-3169-487c-8bf8-a3e860d90883\" class=\"colab-df-container\">\n",
              "    <div>\n",
              "<style scoped>\n",
              "    .dataframe tbody tr th:only-of-type {\n",
              "        vertical-align: middle;\n",
              "    }\n",
              "\n",
              "    .dataframe tbody tr th {\n",
              "        vertical-align: top;\n",
              "    }\n",
              "\n",
              "    .dataframe thead th {\n",
              "        text-align: right;\n",
              "    }\n",
              "</style>\n",
              "<table border=\"1\" class=\"dataframe\">\n",
              "  <thead>\n",
              "    <tr style=\"text-align: right;\">\n",
              "      <th></th>\n",
              "      <th></th>\n",
              "      <th>cases_new</th>\n",
              "      <th>cases_recovered</th>\n",
              "      <th>cases_active</th>\n",
              "      <th>cases_unvax</th>\n",
              "      <th>cases_pvax</th>\n",
              "      <th>cases_fvax</th>\n",
              "      <th>cases_boost</th>\n",
              "      <th>cases_child</th>\n",
              "      <th>cases_adolescent</th>\n",
              "      <th>cases_adult</th>\n",
              "      <th>cases_elderly</th>\n",
              "      <th>deaths_new</th>\n",
              "      <th>deaths_unvax</th>\n",
              "      <th>deaths_pvax</th>\n",
              "      <th>deaths_fvax</th>\n",
              "      <th>deaths_boost</th>\n",
              "    </tr>\n",
              "    <tr>\n",
              "      <th>date</th>\n",
              "      <th>state</th>\n",
              "      <th></th>\n",
              "      <th></th>\n",
              "      <th></th>\n",
              "      <th></th>\n",
              "      <th></th>\n",
              "      <th></th>\n",
              "      <th></th>\n",
              "      <th></th>\n",
              "      <th></th>\n",
              "      <th></th>\n",
              "      <th></th>\n",
              "      <th></th>\n",
              "      <th></th>\n",
              "      <th></th>\n",
              "      <th></th>\n",
              "      <th></th>\n",
              "    </tr>\n",
              "  </thead>\n",
              "  <tbody>\n",
              "    <tr>\n",
              "      <th rowspan=\"5\" valign=\"top\">2020-03</th>\n",
              "      <th>Johor</th>\n",
              "      <td>343</td>\n",
              "      <td>36</td>\n",
              "      <td>2794</td>\n",
              "      <td>343</td>\n",
              "      <td>0</td>\n",
              "      <td>0</td>\n",
              "      <td>0</td>\n",
              "      <td>15</td>\n",
              "      <td>15</td>\n",
              "      <td>244</td>\n",
              "      <td>69</td>\n",
              "      <td>12</td>\n",
              "      <td>12</td>\n",
              "      <td>0</td>\n",
              "      <td>0</td>\n",
              "      <td>0</td>\n",
              "    </tr>\n",
              "    <tr>\n",
              "      <th>Kedah</th>\n",
              "      <td>74</td>\n",
              "      <td>19</td>\n",
              "      <td>806</td>\n",
              "      <td>74</td>\n",
              "      <td>0</td>\n",
              "      <td>0</td>\n",
              "      <td>0</td>\n",
              "      <td>1</td>\n",
              "      <td>5</td>\n",
              "      <td>46</td>\n",
              "      <td>22</td>\n",
              "      <td>1</td>\n",
              "      <td>1</td>\n",
              "      <td>0</td>\n",
              "      <td>0</td>\n",
              "      <td>0</td>\n",
              "    </tr>\n",
              "    <tr>\n",
              "      <th>Kelantan</th>\n",
              "      <td>131</td>\n",
              "      <td>1</td>\n",
              "      <td>1197</td>\n",
              "      <td>131</td>\n",
              "      <td>0</td>\n",
              "      <td>0</td>\n",
              "      <td>0</td>\n",
              "      <td>10</td>\n",
              "      <td>4</td>\n",
              "      <td>84</td>\n",
              "      <td>33</td>\n",
              "      <td>2</td>\n",
              "      <td>2</td>\n",
              "      <td>0</td>\n",
              "      <td>0</td>\n",
              "      <td>0</td>\n",
              "    </tr>\n",
              "    <tr>\n",
              "      <th>Melaka</th>\n",
              "      <td>52</td>\n",
              "      <td>0</td>\n",
              "      <td>481</td>\n",
              "      <td>52</td>\n",
              "      <td>0</td>\n",
              "      <td>0</td>\n",
              "      <td>0</td>\n",
              "      <td>0</td>\n",
              "      <td>2</td>\n",
              "      <td>40</td>\n",
              "      <td>10</td>\n",
              "      <td>2</td>\n",
              "      <td>2</td>\n",
              "      <td>0</td>\n",
              "      <td>0</td>\n",
              "      <td>0</td>\n",
              "    </tr>\n",
              "    <tr>\n",
              "      <th>Negeri Sembilan</th>\n",
              "      <td>179</td>\n",
              "      <td>48</td>\n",
              "      <td>1573</td>\n",
              "      <td>179</td>\n",
              "      <td>0</td>\n",
              "      <td>0</td>\n",
              "      <td>0</td>\n",
              "      <td>4</td>\n",
              "      <td>1</td>\n",
              "      <td>125</td>\n",
              "      <td>49</td>\n",
              "      <td>2</td>\n",
              "      <td>2</td>\n",
              "      <td>0</td>\n",
              "      <td>0</td>\n",
              "      <td>0</td>\n",
              "    </tr>\n",
              "    <tr>\n",
              "      <th>...</th>\n",
              "      <th>...</th>\n",
              "      <td>...</td>\n",
              "      <td>...</td>\n",
              "      <td>...</td>\n",
              "      <td>...</td>\n",
              "      <td>...</td>\n",
              "      <td>...</td>\n",
              "      <td>...</td>\n",
              "      <td>...</td>\n",
              "      <td>...</td>\n",
              "      <td>...</td>\n",
              "      <td>...</td>\n",
              "      <td>...</td>\n",
              "      <td>...</td>\n",
              "      <td>...</td>\n",
              "      <td>...</td>\n",
              "      <td>...</td>\n",
              "    </tr>\n",
              "    <tr>\n",
              "      <th rowspan=\"5\" valign=\"top\">2023-07</th>\n",
              "      <th>Selangor</th>\n",
              "      <td>1440</td>\n",
              "      <td>1909</td>\n",
              "      <td>51150</td>\n",
              "      <td>185</td>\n",
              "      <td>8</td>\n",
              "      <td>251</td>\n",
              "      <td>996</td>\n",
              "      <td>108</td>\n",
              "      <td>67</td>\n",
              "      <td>1089</td>\n",
              "      <td>176</td>\n",
              "      <td>4</td>\n",
              "      <td>0</td>\n",
              "      <td>0</td>\n",
              "      <td>0</td>\n",
              "      <td>1</td>\n",
              "    </tr>\n",
              "    <tr>\n",
              "      <th>Terengganu</th>\n",
              "      <td>114</td>\n",
              "      <td>118</td>\n",
              "      <td>10523</td>\n",
              "      <td>33</td>\n",
              "      <td>0</td>\n",
              "      <td>34</td>\n",
              "      <td>47</td>\n",
              "      <td>16</td>\n",
              "      <td>5</td>\n",
              "      <td>70</td>\n",
              "      <td>23</td>\n",
              "      <td>0</td>\n",
              "      <td>0</td>\n",
              "      <td>0</td>\n",
              "      <td>0</td>\n",
              "      <td>0</td>\n",
              "    </tr>\n",
              "    <tr>\n",
              "      <th>W.P. Kuala Lumpur</th>\n",
              "      <td>1041</td>\n",
              "      <td>1412</td>\n",
              "      <td>57249</td>\n",
              "      <td>83</td>\n",
              "      <td>3</td>\n",
              "      <td>125</td>\n",
              "      <td>830</td>\n",
              "      <td>50</td>\n",
              "      <td>43</td>\n",
              "      <td>851</td>\n",
              "      <td>97</td>\n",
              "      <td>0</td>\n",
              "      <td>0</td>\n",
              "      <td>0</td>\n",
              "      <td>0</td>\n",
              "      <td>0</td>\n",
              "    </tr>\n",
              "    <tr>\n",
              "      <th>W.P. Labuan</th>\n",
              "      <td>54</td>\n",
              "      <td>70</td>\n",
              "      <td>1417</td>\n",
              "      <td>11</td>\n",
              "      <td>0</td>\n",
              "      <td>10</td>\n",
              "      <td>33</td>\n",
              "      <td>3</td>\n",
              "      <td>5</td>\n",
              "      <td>36</td>\n",
              "      <td>10</td>\n",
              "      <td>0</td>\n",
              "      <td>0</td>\n",
              "      <td>0</td>\n",
              "      <td>0</td>\n",
              "      <td>0</td>\n",
              "    </tr>\n",
              "    <tr>\n",
              "      <th>W.P. Putrajaya</th>\n",
              "      <td>84</td>\n",
              "      <td>136</td>\n",
              "      <td>11702</td>\n",
              "      <td>3</td>\n",
              "      <td>1</td>\n",
              "      <td>20</td>\n",
              "      <td>60</td>\n",
              "      <td>5</td>\n",
              "      <td>6</td>\n",
              "      <td>70</td>\n",
              "      <td>3</td>\n",
              "      <td>0</td>\n",
              "      <td>0</td>\n",
              "      <td>0</td>\n",
              "      <td>0</td>\n",
              "      <td>0</td>\n",
              "    </tr>\n",
              "  </tbody>\n",
              "</table>\n",
              "<p>656 rows × 16 columns</p>\n",
              "</div>\n",
              "    <div class=\"colab-df-buttons\">\n",
              "\n",
              "  <div class=\"colab-df-container\">\n",
              "    <button class=\"colab-df-convert\" onclick=\"convertToInteractive('df-39b2caf2-3169-487c-8bf8-a3e860d90883')\"\n",
              "            title=\"Convert this dataframe to an interactive table.\"\n",
              "            style=\"display:none;\">\n",
              "\n",
              "  <svg xmlns=\"http://www.w3.org/2000/svg\" height=\"24px\" viewBox=\"0 -960 960 960\">\n",
              "    <path d=\"M120-120v-720h720v720H120Zm60-500h600v-160H180v160Zm220 220h160v-160H400v160Zm0 220h160v-160H400v160ZM180-400h160v-160H180v160Zm440 0h160v-160H620v160ZM180-180h160v-160H180v160Zm440 0h160v-160H620v160Z\"/>\n",
              "  </svg>\n",
              "    </button>\n",
              "\n",
              "  <style>\n",
              "    .colab-df-container {\n",
              "      display:flex;\n",
              "      gap: 12px;\n",
              "    }\n",
              "\n",
              "    .colab-df-convert {\n",
              "      background-color: #E8F0FE;\n",
              "      border: none;\n",
              "      border-radius: 50%;\n",
              "      cursor: pointer;\n",
              "      display: none;\n",
              "      fill: #1967D2;\n",
              "      height: 32px;\n",
              "      padding: 0 0 0 0;\n",
              "      width: 32px;\n",
              "    }\n",
              "\n",
              "    .colab-df-convert:hover {\n",
              "      background-color: #E2EBFA;\n",
              "      box-shadow: 0px 1px 2px rgba(60, 64, 67, 0.3), 0px 1px 3px 1px rgba(60, 64, 67, 0.15);\n",
              "      fill: #174EA6;\n",
              "    }\n",
              "\n",
              "    .colab-df-buttons div {\n",
              "      margin-bottom: 4px;\n",
              "    }\n",
              "\n",
              "    [theme=dark] .colab-df-convert {\n",
              "      background-color: #3B4455;\n",
              "      fill: #D2E3FC;\n",
              "    }\n",
              "\n",
              "    [theme=dark] .colab-df-convert:hover {\n",
              "      background-color: #434B5C;\n",
              "      box-shadow: 0px 1px 3px 1px rgba(0, 0, 0, 0.15);\n",
              "      filter: drop-shadow(0px 1px 2px rgba(0, 0, 0, 0.3));\n",
              "      fill: #FFFFFF;\n",
              "    }\n",
              "  </style>\n",
              "\n",
              "    <script>\n",
              "      const buttonEl =\n",
              "        document.querySelector('#df-39b2caf2-3169-487c-8bf8-a3e860d90883 button.colab-df-convert');\n",
              "      buttonEl.style.display =\n",
              "        google.colab.kernel.accessAllowed ? 'block' : 'none';\n",
              "\n",
              "      async function convertToInteractive(key) {\n",
              "        const element = document.querySelector('#df-39b2caf2-3169-487c-8bf8-a3e860d90883');\n",
              "        const dataTable =\n",
              "          await google.colab.kernel.invokeFunction('convertToInteractive',\n",
              "                                                    [key], {});\n",
              "        if (!dataTable) return;\n",
              "\n",
              "        const docLinkHtml = 'Like what you see? Visit the ' +\n",
              "          '<a target=\"_blank\" href=https://colab.research.google.com/notebooks/data_table.ipynb>data table notebook</a>'\n",
              "          + ' to learn more about interactive tables.';\n",
              "        element.innerHTML = '';\n",
              "        dataTable['output_type'] = 'display_data';\n",
              "        await google.colab.output.renderOutput(dataTable, element);\n",
              "        const docLink = document.createElement('div');\n",
              "        docLink.innerHTML = docLinkHtml;\n",
              "        element.appendChild(docLink);\n",
              "      }\n",
              "    </script>\n",
              "  </div>\n",
              "\n",
              "\n",
              "<div id=\"df-7f222c03-e421-4d27-8409-d9e150b97d5d\">\n",
              "  <button class=\"colab-df-quickchart\" onclick=\"quickchart('df-7f222c03-e421-4d27-8409-d9e150b97d5d')\"\n",
              "            title=\"Suggest charts.\"\n",
              "            style=\"display:none;\">\n",
              "\n",
              "<svg xmlns=\"http://www.w3.org/2000/svg\" height=\"24px\"viewBox=\"0 0 24 24\"\n",
              "     width=\"24px\">\n",
              "    <g>\n",
              "        <path d=\"M19 3H5c-1.1 0-2 .9-2 2v14c0 1.1.9 2 2 2h14c1.1 0 2-.9 2-2V5c0-1.1-.9-2-2-2zM9 17H7v-7h2v7zm4 0h-2V7h2v10zm4 0h-2v-4h2v4z\"/>\n",
              "    </g>\n",
              "</svg>\n",
              "  </button>\n",
              "\n",
              "<style>\n",
              "  .colab-df-quickchart {\n",
              "      --bg-color: #E8F0FE;\n",
              "      --fill-color: #1967D2;\n",
              "      --hover-bg-color: #E2EBFA;\n",
              "      --hover-fill-color: #174EA6;\n",
              "      --disabled-fill-color: #AAA;\n",
              "      --disabled-bg-color: #DDD;\n",
              "  }\n",
              "\n",
              "  [theme=dark] .colab-df-quickchart {\n",
              "      --bg-color: #3B4455;\n",
              "      --fill-color: #D2E3FC;\n",
              "      --hover-bg-color: #434B5C;\n",
              "      --hover-fill-color: #FFFFFF;\n",
              "      --disabled-bg-color: #3B4455;\n",
              "      --disabled-fill-color: #666;\n",
              "  }\n",
              "\n",
              "  .colab-df-quickchart {\n",
              "    background-color: var(--bg-color);\n",
              "    border: none;\n",
              "    border-radius: 50%;\n",
              "    cursor: pointer;\n",
              "    display: none;\n",
              "    fill: var(--fill-color);\n",
              "    height: 32px;\n",
              "    padding: 0;\n",
              "    width: 32px;\n",
              "  }\n",
              "\n",
              "  .colab-df-quickchart:hover {\n",
              "    background-color: var(--hover-bg-color);\n",
              "    box-shadow: 0 1px 2px rgba(60, 64, 67, 0.3), 0 1px 3px 1px rgba(60, 64, 67, 0.15);\n",
              "    fill: var(--button-hover-fill-color);\n",
              "  }\n",
              "\n",
              "  .colab-df-quickchart-complete:disabled,\n",
              "  .colab-df-quickchart-complete:disabled:hover {\n",
              "    background-color: var(--disabled-bg-color);\n",
              "    fill: var(--disabled-fill-color);\n",
              "    box-shadow: none;\n",
              "  }\n",
              "\n",
              "  .colab-df-spinner {\n",
              "    border: 2px solid var(--fill-color);\n",
              "    border-color: transparent;\n",
              "    border-bottom-color: var(--fill-color);\n",
              "    animation:\n",
              "      spin 1s steps(1) infinite;\n",
              "  }\n",
              "\n",
              "  @keyframes spin {\n",
              "    0% {\n",
              "      border-color: transparent;\n",
              "      border-bottom-color: var(--fill-color);\n",
              "      border-left-color: var(--fill-color);\n",
              "    }\n",
              "    20% {\n",
              "      border-color: transparent;\n",
              "      border-left-color: var(--fill-color);\n",
              "      border-top-color: var(--fill-color);\n",
              "    }\n",
              "    30% {\n",
              "      border-color: transparent;\n",
              "      border-left-color: var(--fill-color);\n",
              "      border-top-color: var(--fill-color);\n",
              "      border-right-color: var(--fill-color);\n",
              "    }\n",
              "    40% {\n",
              "      border-color: transparent;\n",
              "      border-right-color: var(--fill-color);\n",
              "      border-top-color: var(--fill-color);\n",
              "    }\n",
              "    60% {\n",
              "      border-color: transparent;\n",
              "      border-right-color: var(--fill-color);\n",
              "    }\n",
              "    80% {\n",
              "      border-color: transparent;\n",
              "      border-right-color: var(--fill-color);\n",
              "      border-bottom-color: var(--fill-color);\n",
              "    }\n",
              "    90% {\n",
              "      border-color: transparent;\n",
              "      border-bottom-color: var(--fill-color);\n",
              "    }\n",
              "  }\n",
              "</style>\n",
              "\n",
              "  <script>\n",
              "    async function quickchart(key) {\n",
              "      const quickchartButtonEl =\n",
              "        document.querySelector('#' + key + ' button');\n",
              "      quickchartButtonEl.disabled = true;  // To prevent multiple clicks.\n",
              "      quickchartButtonEl.classList.add('colab-df-spinner');\n",
              "      try {\n",
              "        const charts = await google.colab.kernel.invokeFunction(\n",
              "            'suggestCharts', [key], {});\n",
              "      } catch (error) {\n",
              "        console.error('Error during call to suggestCharts:', error);\n",
              "      }\n",
              "      quickchartButtonEl.classList.remove('colab-df-spinner');\n",
              "      quickchartButtonEl.classList.add('colab-df-quickchart-complete');\n",
              "    }\n",
              "    (() => {\n",
              "      let quickchartButtonEl =\n",
              "        document.querySelector('#df-7f222c03-e421-4d27-8409-d9e150b97d5d button');\n",
              "      quickchartButtonEl.style.display =\n",
              "        google.colab.kernel.accessAllowed ? 'block' : 'none';\n",
              "    })();\n",
              "  </script>\n",
              "</div>\n",
              "    </div>\n",
              "  </div>\n"
            ]
          },
          "metadata": {},
          "execution_count": 119
        }
      ]
    },
    {
      "source": [
        "from matplotlib import pyplot as plt\n",
        "df1.plot(kind='scatter', x='cases_new', y='deaths_new', s=32, alpha=.8)\n",
        "plt.gca().spines[['top', 'right',]].set_visible(False)"
      ],
      "cell_type": "code",
      "metadata": {
        "colab": {
          "base_uri": "https://localhost:8080/",
          "height": 449
        },
        "id": "2st1TN_rwzT4",
        "outputId": "f3be611d-5b29-41b4-8f37-7552e4d2867a"
      },
      "execution_count": null,
      "outputs": [
        {
          "output_type": "display_data",
          "data": {
            "text/plain": [
              "<Figure size 640x480 with 1 Axes>"
            ],
            "image/png": "[encoded data removed]"
          },
          "metadata": {}
        }
      ]
    },
    {
      "cell_type": "code",
      "source": [
        "from sklearn.model_selection import train_test_split\n",
        "\n",
        "X = df1.drop(['deaths_new', 'cases_new'], axis=1)\n",
        "y = df1['deaths_new']\n",
        "X_train, X_test, y_train, y_test = train_test_split(X, y, test_size = 0.25, random_state = 3)\n",
        "\n",
        "N_train, _ = X_train.shape\n",
        "N_test,  _ = X_test.shape\n",
        "\n",
        "N_train, N_test\n"
      ],
      "metadata": {
        "colab": {
          "base_uri": "https://localhost:8080/"
        },
        "id": "qdATU5mPqq5F",
        "outputId": "6b348c2b-fa0e-4946-9c94-6d0ae0bef6c5"
      },
      "execution_count": null,
      "outputs": [
        {
          "output_type": "execute_result",
          "data": {
            "text/plain": [
              "(492, 164)"
            ]
          },
          "metadata": {},
          "execution_count": 120
        }
      ]
    },
    {
      "cell_type": "code",
      "source": [
        "from sklearn import neighbors\n",
        "knn = neighbors.KNeighborsRegressor(n_neighbors = 10)\n",
        "knn.fit(X_train, y_train)\n",
        "knn.score(X_test, y_test)"
      ],
      "metadata": {
        "colab": {
          "base_uri": "https://localhost:8080/"
        },
        "id": "BWRDzNqzvEH8",
        "outputId": "683ec072-a6a2-48b7-e771-7a0486575d60"
      },
      "execution_count": 178,
      "outputs": [
        {
          "output_type": "execute_result",
          "data": {
            "text/plain": [
              "0.20133065379769988"
            ]
          },
          "metadata": {},
          "execution_count": 178
        }
      ]
    },
    {
      "cell_type": "code",
      "source": [
        "import math\n",
        "def my_score(y_predict_test, y_test):\n",
        "  errors=[]\n",
        "  y_test = y_test.tolist()\n",
        "  for i in range(len(y_predict_test)):\n",
        "    errors.append(math.floor(abs(y_predict_test[i]-y_test[i])/0.381))\n",
        "  return 100-np.mean(errors)"
      ],
      "metadata": {
        "id": "S6Id5kRKDxwo"
      },
      "execution_count": 228,
      "outputs": []
    },
    {
      "cell_type": "code",
      "source": [
        "from sklearn import neighbors\n",
        "kk = range(1, 70)\n",
        "err_train = []\n",
        "err_test = []\n",
        "for k in kk:\n",
        "    model = neighbors.KNeighborsRegressor(n_neighbors = k)\n",
        "    model.fit(X_train, y_train)\n",
        "    err_train.append(5-my_score(model.predict(X_train), y_train))\n",
        "    err_test.append(5-my_score(model.predict(X_test), y_test))\n",
        "plt.plot(kk, err_train, '.-r', label = 'Train error')\n",
        "plt.plot(kk, err_test,  '.-b', label = 'Test error')\n",
        "plt.legend(loc = 0)\n",
        "plt.xlim([0, 70])\n",
        "pass"
      ],
      "metadata": {
        "id": "6dlYplQLD1dy",
        "colab": {
          "base_uri": "https://localhost:8080/",
          "height": 434
        },
        "outputId": "beff1d06-c4fe-42d8-f093-64a32a529386"
      },
      "execution_count": 229,
      "outputs": [
        {
          "output_type": "display_data",
          "data": {
            "text/plain": [
              "<Figure size 640x480 with 1 Axes>"
            ],
            "image/png": "[encoded data removed]"
          },
          "metadata": {}
        }
      ]
    },
    {
      "cell_type": "code",
      "source": [
        "knn_model = neighbors.KNeighborsRegressor(n_neighbors = 10)\n",
        "knn_model.fit(X_train, y_train)\n",
        "my_score(knn_model.predict(X_test), y_test)\n"
      ],
      "metadata": {
        "colab": {
          "base_uri": "https://localhost:8080/"
        },
        "id": "QmvGoRl8ExNb",
        "outputId": "fc930ce8-1afb-4efb-be28-d1fcaaba6bda"
      },
      "execution_count": 230,
      "outputs": [
        {
          "output_type": "execute_result",
          "data": {
            "text/plain": [
              "0.8658536585365795"
            ]
          },
          "metadata": {},
          "execution_count": 230
        }
      ]
    },
    {
      "cell_type": "code",
      "source": [
        "from sklearn import ensemble\n",
        "gbt = ensemble.GradientBoostingClassifier(n_estimators = 10)\n",
        "gbt.fit(X_train, y_train)\n",
        "\n",
        "err_train = np.mean(y_train != gbt.predict(X_train))\n",
        "err_test = np.mean(y_test != gbt.predict(X_test))\n",
        "\n",
        "print(err_train, err_test)"
      ],
      "metadata": {
        "colab": {
          "base_uri": "https://localhost:8080/"
        },
        "id": "1crHHuv42dkn",
        "outputId": "96d8f513-0818-410f-ee92-c9e80aecb23f"
      },
      "execution_count": null,
      "outputs": [
        {
          "output_type": "stream",
          "name": "stdout",
          "text": [
            "0.06910569105691057 0.6280487804878049\n"
          ]
        }
      ]
    },
    {
      "cell_type": "code",
      "source": [
        "rf = ensemble.RandomForestClassifier(n_estimators = 10)\n",
        "rf.fit(X_train, y_train)\n",
        "\n",
        "err_train = np.mean(y_train != rf.predict(X_train))\n",
        "err_test  = np.mean(y_test  != rf.predict(X_test))\n",
        "print(err_train, err_test)"
      ],
      "metadata": {
        "colab": {
          "base_uri": "https://localhost:8080/"
        },
        "id": "Lbdg2e1g7RTV",
        "outputId": "22733891-5cf3-42cb-f436-0795bd297d2a"
      },
      "execution_count": null,
      "outputs": [
        {
          "output_type": "stream",
          "name": "stdout",
          "text": [
            "0.006097560975609756 0.6524390243902439\n"
          ]
        }
      ]
    }
  ]
}